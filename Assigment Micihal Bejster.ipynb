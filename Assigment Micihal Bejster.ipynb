{
    "cells": [
        {
            "metadata": {
                "collapsed": true
            },
            "cell_type": "markdown",
            "source": "# My Jupyter Notebook on IBM Watson Studio"
        },
        {
            "metadata": {},
            "cell_type": "markdown",
            "source": "__Michal Bejster__\n\nData Sciencist or Data Analyst"
        },
        {
            "metadata": {},
            "cell_type": "markdown",
            "source": "_I am interested in data science because in my opinion that is very big area with a lot of different specializations i am mostly interested in making raw data into some graphs_"
        },
        {
            "metadata": {},
            "cell_type": "markdown",
            "source": "### My code should show that your result would show multiply before addition"
        },
        {
            "metadata": {},
            "cell_type": "code",
            "source": "2+2*2",
            "execution_count": 29,
            "outputs": [
                {
                    "output_type": "execute_result",
                    "execution_count": 29,
                    "data": {
                        "text/plain": "6"
                    },
                    "metadata": {}
                }
            ]
        },
        {
            "metadata": {},
            "cell_type": "markdown",
            "source": "print('-'*10) \n\nNumbered supplements:\n1. BCAA\n2. Protein\n3. Creatin\n\n| --- | --- | --- |\n| Yelloe | Black | White |\n| --- | --- | --- |\n| Jeans | Shorts | Trousers |"
        }
    ],
    "metadata": {
        "kernelspec": {
            "name": "python3",
            "display_name": "Python 3.9",
            "language": "python"
        },
        "language_info": {
            "name": "python",
            "version": "3.9.12",
            "mimetype": "text/x-python",
            "codemirror_mode": {
                "name": "ipython",
                "version": 3
            },
            "pygments_lexer": "ipython3",
            "nbconvert_exporter": "python",
            "file_extension": ".py"
        }
    },
    "nbformat": 4,
    "nbformat_minor": 1
}